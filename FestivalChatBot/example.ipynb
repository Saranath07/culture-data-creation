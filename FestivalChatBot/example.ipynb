{
 "cells": [
  {
   "cell_type": "code",
   "execution_count": 1,
   "metadata": {},
   "outputs": [],
   "source": [
    "from llm1 import task, create_chatbot\n",
    "from llm2 import process_conversation"
   ]
  },
  {
   "cell_type": "code",
   "execution_count": 2,
   "metadata": {},
   "outputs": [
    {
     "data": {
      "text/plain": [
       "'What is the most unique or lesser-known celebration from around the world that you think deserves more attention and why?'"
      ]
     },
     "execution_count": 2,
     "metadata": {},
     "output_type": "execute_result"
    }
   ],
   "source": [
    "chatbot = create_chatbot()\n",
    "question = chatbot.generate_next_question()\n",
    "question"
   ]
  },
  {
   "cell_type": "code",
   "execution_count": 3,
   "metadata": {},
   "outputs": [],
   "source": [
    "prompt = \"I was a part of Diwali festival\""
   ]
  },
  {
   "cell_type": "code",
   "execution_count": 4,
   "metadata": {},
   "outputs": [
    {
     "data": {
      "text/plain": [
       "'What specific aspects of Diwali did you find particularly meaningful or memorable during your participation, and how did it reflect the cultural values and traditions of the community that celebrated it?'"
      ]
     },
     "execution_count": 4,
     "metadata": {},
     "output_type": "execute_result"
    }
   ],
   "source": [
    "chatbot.update_context(question, prompt)\n",
    "question = chatbot.generate_next_question()\n",
    "question"
   ]
  },
  {
   "cell_type": "code",
   "execution_count": 5,
   "metadata": {},
   "outputs": [
    {
     "data": {
      "text/plain": [
       "[{'question': 'What is the most unique or lesser-known celebration from around the world that you think deserves more attention and why?',\n",
       "  'answer': 'I was a part of Diwali festival'}]"
      ]
     },
     "execution_count": 5,
     "metadata": {},
     "output_type": "execute_result"
    }
   ],
   "source": [
    "history = [\n",
    "    {\n",
    "        'question': response.question,\n",
    "        'answer': response.answer\n",
    "    }\n",
    "    for response in chatbot.context.conversation_history\n",
    "]\n",
    "\n",
    "history"
   ]
  },
  {
   "cell_type": "code",
   "execution_count": 6,
   "metadata": {},
   "outputs": [
    {
     "data": {
      "text/plain": [
       "['Date or Time of Year',\n",
       " 'Location',\n",
       " 'Historical Origins',\n",
       " 'Cultural or Religious Significance',\n",
       " 'Activities and Rituals',\n",
       " 'Cuisine',\n",
       " 'Attire and Decorations',\n",
       " 'Music and Dance',\n",
       " 'Participants',\n",
       " 'Duration',\n",
       " 'Preparation',\n",
       " 'Impact on Society',\n",
       " 'Modern Adaptations',\n",
       " 'Language and Expressions',\n",
       " 'Public Holidays',\n",
       " 'Mythological or Historical Figures',\n",
       " 'Inclusivity',\n",
       " 'Sustainability Practices',\n",
       " 'Emotional Significance',\n",
       " 'Uniqueness about the festival']"
      ]
     },
     "execution_count": 6,
     "metadata": {},
     "output_type": "execute_result"
    }
   ],
   "source": [
    "result = process_conversation(history, task)\n",
    "result['missing_attributes']"
   ]
  }
 ],
 "metadata": {
  "kernelspec": {
   "display_name": "Python 3",
   "language": "python",
   "name": "python3"
  },
  "language_info": {
   "codemirror_mode": {
    "name": "ipython",
    "version": 3
   },
   "file_extension": ".py",
   "mimetype": "text/x-python",
   "name": "python",
   "nbconvert_exporter": "python",
   "pygments_lexer": "ipython3",
   "version": "3.12.7"
  }
 },
 "nbformat": 4,
 "nbformat_minor": 2
}
